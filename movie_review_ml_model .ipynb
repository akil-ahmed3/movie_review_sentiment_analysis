{
  "nbformat": 4,
  "nbformat_minor": 0,
  "metadata": {
    "colab": {
      "name": "movie_review_ml_model.ipynb",
      "provenance": [],
      "collapsed_sections": []
    },
    "kernelspec": {
      "name": "python3",
      "display_name": "Python 3"
    },
    "accelerator": "GPU"
  },
  "cells": [
    {
      "cell_type": "code",
      "metadata": {
        "id": "feEOaq8i5hRD"
      },
      "source": [
        "import csv\n",
        "import json\n",
        "import time\n",
        "import urllib\n",
        "import requests\n",
        "import pandas as pd\n",
        "import nltk\n",
        "import spacy\n",
        "import string\n",
        "import numpy as np\n",
        "from google.colab import drive\n",
        "drive.mount(\"/content/drive\")"
      ],
      "execution_count": 5,
      "outputs": []
    },
    {
      "cell_type": "code",
      "metadata": {
        "colab": {
          "base_uri": "https://localhost:8080/",
          "height": 204
        },
        "id": "VlJGhH4W5ioo",
        "outputId": "049f8b67-a466-4c2a-e787-20143dcf76dc"
      },
      "source": [
        "df = pd.read_csv(\"/content/drive/MyDrive/movie_reviews_preprocessed.csv\")\n",
        "df.tail()"
      ],
      "execution_count": 39,
      "outputs": [
        {
          "output_type": "execute_result",
          "data": {
            "text/html": [
              "<div>\n",
              "<style scoped>\n",
              "    .dataframe tbody tr th:only-of-type {\n",
              "        vertical-align: middle;\n",
              "    }\n",
              "\n",
              "    .dataframe tbody tr th {\n",
              "        vertical-align: top;\n",
              "    }\n",
              "\n",
              "    .dataframe thead th {\n",
              "        text-align: right;\n",
              "    }\n",
              "</style>\n",
              "<table border=\"1\" class=\"dataframe\">\n",
              "  <thead>\n",
              "    <tr style=\"text-align: right;\">\n",
              "      <th></th>\n",
              "      <th>Unnamed: 0</th>\n",
              "      <th>Unnamed: 0.1</th>\n",
              "      <th>review</th>\n",
              "      <th>rating</th>\n",
              "    </tr>\n",
              "  </thead>\n",
              "  <tbody>\n",
              "    <tr>\n",
              "      <th>1683263</th>\n",
              "      <td>1683263</td>\n",
              "      <td>1683263</td>\n",
              "      <td>after the critical mutilation chappie received...</td>\n",
              "      <td>-1.0</td>\n",
              "    </tr>\n",
              "    <tr>\n",
              "      <th>1683264</th>\n",
              "      <td>1683264</td>\n",
              "      <td>1683264</td>\n",
              "      <td>hes a happy chappie so says the character yola...</td>\n",
              "      <td>0.0</td>\n",
              "    </tr>\n",
              "    <tr>\n",
              "      <th>1683265</th>\n",
              "      <td>1683265</td>\n",
              "      <td>1683265</td>\n",
              "      <td>i know now a days movies are all about renewin...</td>\n",
              "      <td>0.0</td>\n",
              "    </tr>\n",
              "    <tr>\n",
              "      <th>1683266</th>\n",
              "      <td>1683266</td>\n",
              "      <td>1683266</td>\n",
              "      <td>my least favorite from blomkamp so far so chap...</td>\n",
              "      <td>-1.0</td>\n",
              "    </tr>\n",
              "    <tr>\n",
              "      <th>1683267</th>\n",
              "      <td>1683267</td>\n",
              "      <td>1683267</td>\n",
              "      <td>i felt emotionally involved during almost all ...</td>\n",
              "      <td>-1.0</td>\n",
              "    </tr>\n",
              "  </tbody>\n",
              "</table>\n",
              "</div>"
            ],
            "text/plain": [
              "         Unnamed: 0  ...  rating\n",
              "1683263     1683263  ...    -1.0\n",
              "1683264     1683264  ...     0.0\n",
              "1683265     1683265  ...     0.0\n",
              "1683266     1683266  ...    -1.0\n",
              "1683267     1683267  ...    -1.0\n",
              "\n",
              "[5 rows x 4 columns]"
            ]
          },
          "metadata": {
            "tags": []
          },
          "execution_count": 39
        }
      ]
    },
    {
      "cell_type": "code",
      "metadata": {
        "id": "sE4lzqDC55jI"
      },
      "source": [
        "#  Drop Nan values\n",
        "df.dropna(subset = [\"rating\"], inplace=True)\n",
        "df.dropna(subset = [\"review\"], inplace=True)"
      ],
      "execution_count": 4,
      "outputs": []
    },
    {
      "cell_type": "code",
      "metadata": {
        "id": "0ykMULlV6OfL"
      },
      "source": [
        "df = df.reset_index(drop=True)"
      ],
      "execution_count": 5,
      "outputs": []
    },
    {
      "cell_type": "code",
      "metadata": {
        "id": "DNEk4T506S_F"
      },
      "source": [
        "df.drop(['Unnamed: 0', 'Unnamed: 0.1'], axis = 1,  inplace = True)"
      ],
      "execution_count": 6,
      "outputs": []
    },
    {
      "cell_type": "code",
      "metadata": {
        "colab": {
          "base_uri": "https://localhost:8080/",
          "height": 204
        },
        "id": "4oJuzfqm6Uwn",
        "outputId": "1d56f939-ba40-4280-f958-04c78480f4d3"
      },
      "source": [
        "df.tail()"
      ],
      "execution_count": 7,
      "outputs": [
        {
          "output_type": "execute_result",
          "data": {
            "text/html": [
              "<div>\n",
              "<style scoped>\n",
              "    .dataframe tbody tr th:only-of-type {\n",
              "        vertical-align: middle;\n",
              "    }\n",
              "\n",
              "    .dataframe tbody tr th {\n",
              "        vertical-align: top;\n",
              "    }\n",
              "\n",
              "    .dataframe thead th {\n",
              "        text-align: right;\n",
              "    }\n",
              "</style>\n",
              "<table border=\"1\" class=\"dataframe\">\n",
              "  <thead>\n",
              "    <tr style=\"text-align: right;\">\n",
              "      <th></th>\n",
              "      <th>review</th>\n",
              "      <th>rating</th>\n",
              "    </tr>\n",
              "  </thead>\n",
              "  <tbody>\n",
              "    <tr>\n",
              "      <th>1683249</th>\n",
              "      <td>after the critical mutilation chappie received...</td>\n",
              "      <td>-1.0</td>\n",
              "    </tr>\n",
              "    <tr>\n",
              "      <th>1683250</th>\n",
              "      <td>hes a happy chappie so says the character yola...</td>\n",
              "      <td>0.0</td>\n",
              "    </tr>\n",
              "    <tr>\n",
              "      <th>1683251</th>\n",
              "      <td>i know now a days movies are all about renewin...</td>\n",
              "      <td>0.0</td>\n",
              "    </tr>\n",
              "    <tr>\n",
              "      <th>1683252</th>\n",
              "      <td>my least favorite from blomkamp so far so chap...</td>\n",
              "      <td>-1.0</td>\n",
              "    </tr>\n",
              "    <tr>\n",
              "      <th>1683253</th>\n",
              "      <td>i felt emotionally involved during almost all ...</td>\n",
              "      <td>-1.0</td>\n",
              "    </tr>\n",
              "  </tbody>\n",
              "</table>\n",
              "</div>"
            ],
            "text/plain": [
              "                                                    review  rating\n",
              "1683249  after the critical mutilation chappie received...    -1.0\n",
              "1683250  hes a happy chappie so says the character yola...     0.0\n",
              "1683251  i know now a days movies are all about renewin...     0.0\n",
              "1683252  my least favorite from blomkamp so far so chap...    -1.0\n",
              "1683253  i felt emotionally involved during almost all ...    -1.0"
            ]
          },
          "metadata": {
            "tags": []
          },
          "execution_count": 7
        }
      ]
    },
    {
      "cell_type": "code",
      "metadata": {
        "id": "2ZNIy-er6gjx"
      },
      "source": [
        "import tensorflow as tf\n",
        "from tensorflow.keras.preprocessing.text import Tokenizer\n",
        "from tensorflow.keras.models import Sequential\n",
        "from tensorflow.keras.layers import Dense, Dropout, Embedding, SpatialDropout1D\n",
        "from tensorflow.keras.layers import LSTM\n",
        "from tensorflow.keras.preprocessing.sequence import pad_sequences\n",
        "\n",
        "from tensorflow.keras.callbacks import ReduceLROnPlateau\n",
        "from tensorflow.keras.layers.experimental.preprocessing import TextVectorization\n",
        "from sklearn.model_selection import train_test_split\n"
      ],
      "execution_count": 7,
      "outputs": []
    },
    {
      "cell_type": "code",
      "metadata": {
        "id": "MTv9r-9B8uIZ"
      },
      "source": [
        "texts = df[\"review\"]\n",
        "target = df[\"rating\"]"
      ],
      "execution_count": 9,
      "outputs": []
    },
    {
      "cell_type": "code",
      "metadata": {
        "id": "G9IuHkB46knd"
      },
      "source": [
        "tokenizer = Tokenizer(num_words=10000, oov_token=None)\n",
        "tokenizer.fit_on_texts(texts)\n",
        "\n",
        "X = tokenizer.texts_to_sequences(texts)\n",
        "X, y = np.array(X), np.array(target)\n",
        "\n",
        "X = pad_sequences(X, maxlen=100)\n",
        "X_train, X_val, Y_train, Y_val = train_test_split(X, y, test_size=0.20, random_state=1)"
      ],
      "execution_count": 10,
      "outputs": []
    },
    {
      "cell_type": "code",
      "metadata": {
        "id": "-3gBtuuq63IX"
      },
      "source": [
        "lrr = ReduceLROnPlateau(monitor='val_accuracy', factor=.01,  patience=3, min_lr=1e-5)"
      ],
      "execution_count": 11,
      "outputs": []
    },
    {
      "cell_type": "code",
      "metadata": {
        "id": "w3yi-HpU7Ejd"
      },
      "source": [
        "vocab_size = 10000\n",
        "embedding_dim = 64"
      ],
      "execution_count": 12,
      "outputs": []
    },
    {
      "cell_type": "code",
      "metadata": {
        "id": "1L6A3L40a9wE"
      },
      "source": [
        "from tensorflow.keras.utils import to_categorical\n",
        "Y_train = to_categorical(Y_train, 3)\n",
        "Y_val = to_categorical(Y_val, 3)"
      ],
      "execution_count": 13,
      "outputs": []
    },
    {
      "cell_type": "code",
      "metadata": {
        "colab": {
          "base_uri": "https://localhost:8080/"
        },
        "id": "W3xSYH7Q_HgH",
        "outputId": "88631693-b416-40c1-d67a-d86d93651410"
      },
      "source": [
        "model = tf.keras.Sequential([\n",
        "    tf.keras.layers.Embedding(vocab_size, embedding_dim),\n",
        "    tf.keras.layers.Bidirectional(tf.keras.layers.LSTM(embedding_dim, dropout=0.2)),\n",
        "    tf.keras.layers.Dense(embedding_dim, activation='relu'),\n",
        "    tf.keras.layers.Dense(3, activation='softmax')\n",
        "])\n",
        "model.summary()"
      ],
      "execution_count": 14,
      "outputs": [
        {
          "output_type": "stream",
          "text": [
            "Model: \"sequential\"\n",
            "_________________________________________________________________\n",
            "Layer (type)                 Output Shape              Param #   \n",
            "=================================================================\n",
            "embedding (Embedding)        (None, None, 64)          640000    \n",
            "_________________________________________________________________\n",
            "bidirectional (Bidirectional (None, 128)               66048     \n",
            "_________________________________________________________________\n",
            "dense (Dense)                (None, 64)                8256      \n",
            "_________________________________________________________________\n",
            "dense_1 (Dense)              (None, 3)                 195       \n",
            "=================================================================\n",
            "Total params: 714,499\n",
            "Trainable params: 714,499\n",
            "Non-trainable params: 0\n",
            "_________________________________________________________________\n"
          ],
          "name": "stdout"
        }
      ]
    },
    {
      "cell_type": "code",
      "metadata": {
        "id": "ssOP2Oit_17F"
      },
      "source": [
        "model.compile(loss='categorical_crossentropy', optimizer='adam', metrics=['accuracy'])\n",
        "num_epochs = 10"
      ],
      "execution_count": 15,
      "outputs": []
    },
    {
      "cell_type": "code",
      "metadata": {
        "colab": {
          "base_uri": "https://localhost:8080/"
        },
        "id": "HqCiO3Y9Bt4_",
        "outputId": "1b5933e3-03d5-4d45-e61b-bbf6ee10cc63"
      },
      "source": [
        "hist = model.fit(X_train, Y_train, batch_size=32, epochs=num_epochs, verbose=1, validation_data=(X_val, Y_val))"
      ],
      "execution_count": 16,
      "outputs": [
        {
          "output_type": "stream",
          "text": [
            "Epoch 1/10\n",
            "42082/42082 [==============================] - 808s 19ms/step - loss: 0.5843 - accuracy: 0.7578 - val_loss: 0.5425 - val_accuracy: 0.7779\n",
            "Epoch 2/10\n",
            "42082/42082 [==============================] - 807s 19ms/step - loss: 0.5268 - accuracy: 0.7837 - val_loss: 0.5261 - val_accuracy: 0.7839\n",
            "Epoch 3/10\n",
            "42082/42082 [==============================] - 798s 19ms/step - loss: 0.5067 - accuracy: 0.7931 - val_loss: 0.5211 - val_accuracy: 0.7860\n",
            "Epoch 4/10\n",
            "42082/42082 [==============================] - 799s 19ms/step - loss: 0.4938 - accuracy: 0.7987 - val_loss: 0.5230 - val_accuracy: 0.7875\n",
            "Epoch 5/10\n",
            "42082/42082 [==============================] - 804s 19ms/step - loss: 0.4847 - accuracy: 0.8026 - val_loss: 0.5312 - val_accuracy: 0.7854\n",
            "Epoch 6/10\n",
            "42082/42082 [==============================] - 806s 19ms/step - loss: 0.4782 - accuracy: 0.8055 - val_loss: 0.5233 - val_accuracy: 0.7863\n",
            "Epoch 7/10\n",
            "42082/42082 [==============================] - 799s 19ms/step - loss: 0.4732 - accuracy: 0.8080 - val_loss: 0.5280 - val_accuracy: 0.7868\n",
            "Epoch 8/10\n",
            "42082/42082 [==============================] - 715s 17ms/step - loss: 0.4686 - accuracy: 0.8097 - val_loss: 0.5351 - val_accuracy: 0.7862\n",
            "Epoch 9/10\n",
            "42082/42082 [==============================] - 703s 17ms/step - loss: 0.4662 - accuracy: 0.8108 - val_loss: 0.5283 - val_accuracy: 0.7861\n",
            "Epoch 10/10\n",
            "42082/42082 [==============================] - 697s 17ms/step - loss: 0.4629 - accuracy: 0.8126 - val_loss: 0.5320 - val_accuracy: 0.7855\n"
          ],
          "name": "stdout"
        }
      ]
    },
    {
      "cell_type": "code",
      "metadata": {
        "id": "gj3dE6OBCUDH"
      },
      "source": [
        "model.save('/content/drive/MyDrive/movie_review_model.h5')"
      ],
      "execution_count": 17,
      "outputs": []
    },
    {
      "cell_type": "code",
      "metadata": {
        "colab": {
          "base_uri": "https://localhost:8080/"
        },
        "id": "Marx1KSrDBp6",
        "outputId": "b6e934c4-479a-4fb1-f39f-abbdf179cb98"
      },
      "source": [
        "tokenizer = Tokenizer(num_words=100, oov_token=None)\n",
        "d = pd.DataFrame({\"review\": [\"Worst thing I have ever seen\", \"Worst\"], \"ratin\"})\n",
        "tokenizer.fit_on_texts(d['review'])\n",
        "e = tokenizer.texts_to_sequences(d)\n",
        "e = pad_sequences(e, maxlen=100)\n",
        "e = np.array(e)\n",
        "e"
      ],
      "execution_count": 38,
      "outputs": [
        {
          "output_type": "execute_result",
          "data": {
            "text/plain": [
              "array([[0, 0, 0, 0, 0, 0, 0, 0, 0, 0, 0, 0, 0, 0, 0, 0, 0, 0, 0, 0, 0, 0,\n",
              "        0, 0, 0, 0, 0, 0, 0, 0, 0, 0, 0, 0, 0, 0, 0, 0, 0, 0, 0, 0, 0, 0,\n",
              "        0, 0, 0, 0, 0, 0, 0, 0, 0, 0, 0, 0, 0, 0, 0, 0, 0, 0, 0, 0, 0, 0,\n",
              "        0, 0, 0, 0, 0, 0, 0, 0, 0, 0, 0, 0, 0, 0, 0, 0, 0, 0, 0, 0, 0, 0,\n",
              "        0, 0, 0, 0, 0, 0, 0, 0, 0, 0, 0, 0]], dtype=int32)"
            ]
          },
          "metadata": {
            "tags": []
          },
          "execution_count": 38
        }
      ]
    },
    {
      "cell_type": "code",
      "metadata": {
        "colab": {
          "base_uri": "https://localhost:8080/"
        },
        "id": "LTdj-k0WD33J",
        "outputId": "be0aa5fd-a134-4ef5-cc30-f4a656430a4f"
      },
      "source": [
        "model.predict(e)"
      ],
      "execution_count": 30,
      "outputs": [
        {
          "output_type": "execute_result",
          "data": {
            "text/plain": [
              "array([[0.15888655, 0.5672802 , 0.27383322]], dtype=float32)"
            ]
          },
          "metadata": {
            "tags": []
          },
          "execution_count": 30
        }
      ]
    },
    {
      "cell_type": "code",
      "metadata": {
        "id": "sDn8RQxGKDdC"
      },
      "source": [
        "dff = df.copy()[: 20]"
      ],
      "execution_count": 65,
      "outputs": []
    },
    {
      "cell_type": "code",
      "metadata": {
        "id": "L_VoKaGsKMzU"
      },
      "source": [
        "dff.drop(['Unnamed: 0', 'Unnamed: 0.1'], axis = 1,  inplace = True)"
      ],
      "execution_count": 66,
      "outputs": []
    },
    {
      "cell_type": "code",
      "metadata": {
        "colab": {
          "base_uri": "https://localhost:8080/"
        },
        "id": "kxTgxzqMFkUE",
        "outputId": "188df429-4b65-4b1e-9ed1-308f4c7a5ac7"
      },
      "source": [
        "from tensorflow.keras.utils import to_categorical\n",
        "\n",
        "\n",
        "tokenizer = Tokenizer(num_words=10000, oov_token=None)\n",
        "tokenizer.fit_on_texts(dff['review'])\n",
        "\n",
        "X = tokenizer.texts_to_sequences(dff['review'])\n",
        "X, y = np.array(X), np.array(dff['rating'])\n",
        "\n",
        "y = to_categorical(y, num_classes = 3)\n",
        "\n",
        "X = pad_sequences(X, maxlen=100)\n",
        "y"
      ],
      "execution_count": 67,
      "outputs": [
        {
          "output_type": "execute_result",
          "data": {
            "text/plain": [
              "array([[0., 1., 0.],\n",
              "       [1., 0., 0.],\n",
              "       [0., 1., 0.],\n",
              "       [0., 1., 0.],\n",
              "       [0., 1., 0.],\n",
              "       [1., 0., 0.],\n",
              "       [0., 1., 0.],\n",
              "       [0., 1., 0.],\n",
              "       [0., 0., 1.],\n",
              "       [1., 0., 0.],\n",
              "       [0., 1., 0.],\n",
              "       [1., 0., 0.],\n",
              "       [0., 0., 1.],\n",
              "       [0., 1., 0.],\n",
              "       [0., 0., 1.],\n",
              "       [0., 0., 1.],\n",
              "       [0., 0., 1.],\n",
              "       [0., 0., 1.],\n",
              "       [0., 0., 1.],\n",
              "       [0., 0., 1.]], dtype=float32)"
            ]
          },
          "metadata": {
            "tags": []
          },
          "execution_count": 67
        }
      ]
    },
    {
      "cell_type": "code",
      "metadata": {
        "id": "Bhk4UK3PKzc9"
      },
      "source": [
        "model.evaluate(X, y)"
      ],
      "execution_count": 69,
      "outputs": []
    },
    {
      "cell_type": "code",
      "metadata": {
        "colab": {
          "base_uri": "https://localhost:8080/",
          "height": 669
        },
        "id": "PPoaq6SjK1dN",
        "outputId": "100c798c-fc27-477a-9e77-ba90bae54da9"
      },
      "source": [
        "dff"
      ],
      "execution_count": 59,
      "outputs": [
        {
          "output_type": "execute_result",
          "data": {
            "text/html": [
              "<div>\n",
              "<style scoped>\n",
              "    .dataframe tbody tr th:only-of-type {\n",
              "        vertical-align: middle;\n",
              "    }\n",
              "\n",
              "    .dataframe tbody tr th {\n",
              "        vertical-align: top;\n",
              "    }\n",
              "\n",
              "    .dataframe thead th {\n",
              "        text-align: right;\n",
              "    }\n",
              "</style>\n",
              "<table border=\"1\" class=\"dataframe\">\n",
              "  <thead>\n",
              "    <tr style=\"text-align: right;\">\n",
              "      <th></th>\n",
              "      <th>review</th>\n",
              "      <th>rating</th>\n",
              "    </tr>\n",
              "  </thead>\n",
              "  <tbody>\n",
              "    <tr>\n",
              "      <th>0</th>\n",
              "      <td>altered follows the capture of an extraterrest...</td>\n",
              "      <td>1.0</td>\n",
              "    </tr>\n",
              "    <tr>\n",
              "      <th>1</th>\n",
              "      <td>although it would be a stretch to call it orig...</td>\n",
              "      <td>0.0</td>\n",
              "    </tr>\n",
              "    <tr>\n",
              "      <th>2</th>\n",
              "      <td>going into altered i was aware of a couple thi...</td>\n",
              "      <td>1.0</td>\n",
              "    </tr>\n",
              "    <tr>\n",
              "      <th>3</th>\n",
              "      <td>like scifi like gore if like me the answer is ...</td>\n",
              "      <td>1.0</td>\n",
              "    </tr>\n",
              "    <tr>\n",
              "      <th>4</th>\n",
              "      <td>i watched it expecting it to be a cheap low bu...</td>\n",
              "      <td>1.0</td>\n",
              "    </tr>\n",
              "    <tr>\n",
              "      <th>5</th>\n",
              "      <td>potential spoilers i thought it started off ve...</td>\n",
              "      <td>0.0</td>\n",
              "    </tr>\n",
              "    <tr>\n",
              "      <th>6</th>\n",
              "      <td>after being taken by aliens 15 years ago a gro...</td>\n",
              "      <td>1.0</td>\n",
              "    </tr>\n",
              "    <tr>\n",
              "      <th>7</th>\n",
              "      <td>highconcept with tight wellcontrolled shots al...</td>\n",
              "      <td>1.0</td>\n",
              "    </tr>\n",
              "    <tr>\n",
              "      <th>8</th>\n",
              "      <td>after reading the first 5 reviews on imdb i wa...</td>\n",
              "      <td>-1.0</td>\n",
              "    </tr>\n",
              "    <tr>\n",
              "      <th>9</th>\n",
              "      <td>cody duke  otispaul mccarthyboyington brad wil...</td>\n",
              "      <td>0.0</td>\n",
              "    </tr>\n",
              "    <tr>\n",
              "      <th>10</th>\n",
              "      <td>i suck at reviews but saw there were none for ...</td>\n",
              "      <td>1.0</td>\n",
              "    </tr>\n",
              "    <tr>\n",
              "      <th>11</th>\n",
              "      <td>seven years after the incredible success of in...</td>\n",
              "      <td>0.0</td>\n",
              "    </tr>\n",
              "    <tr>\n",
              "      <th>12</th>\n",
              "      <td>after seeing an advert for the film it seemed ...</td>\n",
              "      <td>-1.0</td>\n",
              "    </tr>\n",
              "    <tr>\n",
              "      <th>13</th>\n",
              "      <td>me likes unpredictable and a taut thriller pac...</td>\n",
              "      <td>1.0</td>\n",
              "    </tr>\n",
              "    <tr>\n",
              "      <th>14</th>\n",
              "      <td>id have to admit that the draw of this movie i...</td>\n",
              "      <td>-1.0</td>\n",
              "    </tr>\n",
              "    <tr>\n",
              "      <th>15</th>\n",
              "      <td>i expected a lot more from this movie as it wa...</td>\n",
              "      <td>-1.0</td>\n",
              "    </tr>\n",
              "    <tr>\n",
              "      <th>16</th>\n",
              "      <td>this weekend just passed i watched 28 weeks la...</td>\n",
              "      <td>-1.0</td>\n",
              "    </tr>\n",
              "    <tr>\n",
              "      <th>17</th>\n",
              "      <td>its a pity eduardo sanchezs jawdroppingly terr...</td>\n",
              "      <td>-1.0</td>\n",
              "    </tr>\n",
              "    <tr>\n",
              "      <th>18</th>\n",
              "      <td>im 47 years old and ive spent as much of my li...</td>\n",
              "      <td>-1.0</td>\n",
              "    </tr>\n",
              "    <tr>\n",
              "      <th>19</th>\n",
              "      <td>first question why aliens who have the technol...</td>\n",
              "      <td>-1.0</td>\n",
              "    </tr>\n",
              "  </tbody>\n",
              "</table>\n",
              "</div>"
            ],
            "text/plain": [
              "                                               review  rating\n",
              "0   altered follows the capture of an extraterrest...     1.0\n",
              "1   although it would be a stretch to call it orig...     0.0\n",
              "2   going into altered i was aware of a couple thi...     1.0\n",
              "3   like scifi like gore if like me the answer is ...     1.0\n",
              "4   i watched it expecting it to be a cheap low bu...     1.0\n",
              "5   potential spoilers i thought it started off ve...     0.0\n",
              "6   after being taken by aliens 15 years ago a gro...     1.0\n",
              "7   highconcept with tight wellcontrolled shots al...     1.0\n",
              "8   after reading the first 5 reviews on imdb i wa...    -1.0\n",
              "9   cody duke  otispaul mccarthyboyington brad wil...     0.0\n",
              "10  i suck at reviews but saw there were none for ...     1.0\n",
              "11  seven years after the incredible success of in...     0.0\n",
              "12  after seeing an advert for the film it seemed ...    -1.0\n",
              "13  me likes unpredictable and a taut thriller pac...     1.0\n",
              "14  id have to admit that the draw of this movie i...    -1.0\n",
              "15  i expected a lot more from this movie as it wa...    -1.0\n",
              "16  this weekend just passed i watched 28 weeks la...    -1.0\n",
              "17  its a pity eduardo sanchezs jawdroppingly terr...    -1.0\n",
              "18  im 47 years old and ive spent as much of my li...    -1.0\n",
              "19  first question why aliens who have the technol...    -1.0"
            ]
          },
          "metadata": {
            "tags": []
          },
          "execution_count": 59
        }
      ]
    },
    {
      "cell_type": "code",
      "metadata": {
        "id": "oaZ01defLDUD"
      },
      "source": [
        ""
      ],
      "execution_count": null,
      "outputs": []
    }
  ]
}