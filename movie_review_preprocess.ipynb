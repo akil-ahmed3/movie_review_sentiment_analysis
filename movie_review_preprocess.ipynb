{
  "nbformat": 4,
  "nbformat_minor": 0,
  "metadata": {
    "colab": {
      "name": "movie_review_sentiment_analysis.ipynb",
      "provenance": [],
      "collapsed_sections": []
    },
    "kernelspec": {
      "name": "python3",
      "display_name": "Python 3"
    }
  },
  "cells": [
    {
      "cell_type": "code",
      "metadata": {
        "id": "GTd0ExEnxM4x",
        "colab": {
          "base_uri": "https://localhost:8080/"
        },
        "outputId": "5e1b549a-2e4f-4938-acac-c0c175a83efc"
      },
      "source": [
        "import csv\n",
        "import json\n",
        "import time\n",
        "import urllib\n",
        "import requests\n",
        "import pandas as pd\n",
        "import nltk\n",
        "import spacy\n",
        "import string\n",
        "import numpy as np\n",
        "from google.colab import drive\n",
        "drive.mount(\"/content/drive\")"
      ],
      "execution_count": null,
      "outputs": [
        {
          "output_type": "stream",
          "text": [
            "Mounted at /content/drive\n"
          ],
          "name": "stdout"
        }
      ]
    },
    {
      "cell_type": "code",
      "metadata": {
        "id": "RoIu4Z9Gxij3"
      },
      "source": [
        "df = pd.read_csv(\"/content/drive/MyDrive/movie_reviews.csv\")"
      ],
      "execution_count": null,
      "outputs": []
    },
    {
      "cell_type": "code",
      "metadata": {
        "colab": {
          "base_uri": "https://localhost:8080/",
          "height": 204
        },
        "id": "_sI1dn6yzEL9",
        "outputId": "3faf3cb8-171f-4174-95c1-3ed276be3542"
      },
      "source": [
        "df.head()"
      ],
      "execution_count": null,
      "outputs": [
        {
          "output_type": "execute_result",
          "data": {
            "text/html": [
              "<div>\n",
              "<style scoped>\n",
              "    .dataframe tbody tr th:only-of-type {\n",
              "        vertical-align: middle;\n",
              "    }\n",
              "\n",
              "    .dataframe tbody tr th {\n",
              "        vertical-align: top;\n",
              "    }\n",
              "\n",
              "    .dataframe thead th {\n",
              "        text-align: right;\n",
              "    }\n",
              "</style>\n",
              "<table border=\"1\" class=\"dataframe\">\n",
              "  <thead>\n",
              "    <tr style=\"text-align: right;\">\n",
              "      <th></th>\n",
              "      <th>Unnamed: 0</th>\n",
              "      <th>movie_id</th>\n",
              "      <th>review</th>\n",
              "      <th>date</th>\n",
              "      <th>helpful</th>\n",
              "      <th>helpful_out_of</th>\n",
              "      <th>rating</th>\n",
              "    </tr>\n",
              "  </thead>\n",
              "  <tbody>\n",
              "    <tr>\n",
              "      <th>0</th>\n",
              "      <td>0</td>\n",
              "      <td>457275</td>\n",
              "      <td>'Altered' follows the capture of an extraterre...</td>\n",
              "      <td>2006-12-20</td>\n",
              "      <td>96</td>\n",
              "      <td>131</td>\n",
              "      <td>8.0</td>\n",
              "    </tr>\n",
              "    <tr>\n",
              "      <th>1</th>\n",
              "      <td>1</td>\n",
              "      <td>457275</td>\n",
              "      <td>Although it would be a stretch to call it orig...</td>\n",
              "      <td>2010-05-17</td>\n",
              "      <td>16</td>\n",
              "      <td>21</td>\n",
              "      <td>7.0</td>\n",
              "    </tr>\n",
              "    <tr>\n",
              "      <th>2</th>\n",
              "      <td>2</td>\n",
              "      <td>457275</td>\n",
              "      <td>Going into Altered I was aware of a couple thi...</td>\n",
              "      <td>2007-03-02</td>\n",
              "      <td>41</td>\n",
              "      <td>61</td>\n",
              "      <td>8.0</td>\n",
              "    </tr>\n",
              "    <tr>\n",
              "      <th>3</th>\n",
              "      <td>3</td>\n",
              "      <td>457275</td>\n",
              "      <td>like sci-fi? like gore? if, like me the answer...</td>\n",
              "      <td>2006-12-28</td>\n",
              "      <td>41</td>\n",
              "      <td>62</td>\n",
              "      <td>8.0</td>\n",
              "    </tr>\n",
              "    <tr>\n",
              "      <th>4</th>\n",
              "      <td>4</td>\n",
              "      <td>457275</td>\n",
              "      <td>I watched it expecting it to be a cheap low bu...</td>\n",
              "      <td>2006-12-18</td>\n",
              "      <td>61</td>\n",
              "      <td>105</td>\n",
              "      <td>9.0</td>\n",
              "    </tr>\n",
              "  </tbody>\n",
              "</table>\n",
              "</div>"
            ],
            "text/plain": [
              "   Unnamed: 0  movie_id  ... helpful_out_of rating\n",
              "0           0    457275  ...            131    8.0\n",
              "1           1    457275  ...             21    7.0\n",
              "2           2    457275  ...             61    8.0\n",
              "3           3    457275  ...             62    8.0\n",
              "4           4    457275  ...            105    9.0\n",
              "\n",
              "[5 rows x 7 columns]"
            ]
          },
          "metadata": {
            "tags": []
          },
          "execution_count": 4
        }
      ]
    },
    {
      "cell_type": "code",
      "metadata": {
        "colab": {
          "base_uri": "https://localhost:8080/",
          "height": 204
        },
        "id": "xn3pks7x0n4r",
        "outputId": "7e64e69b-b966-4659-ac9e-f1442a165e36"
      },
      "source": [
        "# Converting empty values to NaN value\n",
        "nan_value = float(\"NaN\")\n",
        "\n",
        "df.drop(['Unnamed: 0','movie_id', 'date', 'helpful', 'helpful_out_of'], axis = 1,  inplace = True)\n",
        "\n",
        "df.replace(\"\", nan_value, inplace = True)\n",
        "\n",
        "df.head()"
      ],
      "execution_count": null,
      "outputs": [
        {
          "output_type": "execute_result",
          "data": {
            "text/html": [
              "<div>\n",
              "<style scoped>\n",
              "    .dataframe tbody tr th:only-of-type {\n",
              "        vertical-align: middle;\n",
              "    }\n",
              "\n",
              "    .dataframe tbody tr th {\n",
              "        vertical-align: top;\n",
              "    }\n",
              "\n",
              "    .dataframe thead th {\n",
              "        text-align: right;\n",
              "    }\n",
              "</style>\n",
              "<table border=\"1\" class=\"dataframe\">\n",
              "  <thead>\n",
              "    <tr style=\"text-align: right;\">\n",
              "      <th></th>\n",
              "      <th>review</th>\n",
              "      <th>rating</th>\n",
              "    </tr>\n",
              "  </thead>\n",
              "  <tbody>\n",
              "    <tr>\n",
              "      <th>0</th>\n",
              "      <td>'Altered' follows the capture of an extraterre...</td>\n",
              "      <td>8.0</td>\n",
              "    </tr>\n",
              "    <tr>\n",
              "      <th>1</th>\n",
              "      <td>Although it would be a stretch to call it orig...</td>\n",
              "      <td>7.0</td>\n",
              "    </tr>\n",
              "    <tr>\n",
              "      <th>2</th>\n",
              "      <td>Going into Altered I was aware of a couple thi...</td>\n",
              "      <td>8.0</td>\n",
              "    </tr>\n",
              "    <tr>\n",
              "      <th>3</th>\n",
              "      <td>like sci-fi? like gore? if, like me the answer...</td>\n",
              "      <td>8.0</td>\n",
              "    </tr>\n",
              "    <tr>\n",
              "      <th>4</th>\n",
              "      <td>I watched it expecting it to be a cheap low bu...</td>\n",
              "      <td>9.0</td>\n",
              "    </tr>\n",
              "  </tbody>\n",
              "</table>\n",
              "</div>"
            ],
            "text/plain": [
              "                                              review  rating\n",
              "0  'Altered' follows the capture of an extraterre...     8.0\n",
              "1  Although it would be a stretch to call it orig...     7.0\n",
              "2  Going into Altered I was aware of a couple thi...     8.0\n",
              "3  like sci-fi? like gore? if, like me the answer...     8.0\n",
              "4  I watched it expecting it to be a cheap low bu...     9.0"
            ]
          },
          "metadata": {
            "tags": []
          },
          "execution_count": 5
        }
      ]
    },
    {
      "cell_type": "code",
      "metadata": {
        "id": "TQ4_yTFH08xh"
      },
      "source": [
        "#  Drop Nan values\n",
        "df.dropna(subset = [\"rating\"], inplace=True)\n",
        "df.dropna(subset = [\"review\"], inplace=True)"
      ],
      "execution_count": null,
      "outputs": []
    },
    {
      "cell_type": "code",
      "metadata": {
        "id": "_hkIOm9N0_GY"
      },
      "source": [
        "# Reset Indexes\n",
        "df = df.reset_index(drop=True)"
      ],
      "execution_count": null,
      "outputs": []
    },
    {
      "cell_type": "code",
      "metadata": {
        "colab": {
          "base_uri": "https://localhost:8080/",
          "height": 204
        },
        "id": "1vCrevBd1QXw",
        "outputId": "848ed021-3eed-42f7-d414-e959ad8a2478"
      },
      "source": [
        "df.tail()"
      ],
      "execution_count": null,
      "outputs": [
        {
          "output_type": "execute_result",
          "data": {
            "text/html": [
              "<div>\n",
              "<style scoped>\n",
              "    .dataframe tbody tr th:only-of-type {\n",
              "        vertical-align: middle;\n",
              "    }\n",
              "\n",
              "    .dataframe tbody tr th {\n",
              "        vertical-align: top;\n",
              "    }\n",
              "\n",
              "    .dataframe thead th {\n",
              "        text-align: right;\n",
              "    }\n",
              "</style>\n",
              "<table border=\"1\" class=\"dataframe\">\n",
              "  <thead>\n",
              "    <tr style=\"text-align: right;\">\n",
              "      <th></th>\n",
              "      <th>review</th>\n",
              "      <th>rating</th>\n",
              "    </tr>\n",
              "  </thead>\n",
              "  <tbody>\n",
              "    <tr>\n",
              "      <th>1683263</th>\n",
              "      <td>After the critical mutilation Chappie received...</td>\n",
              "      <td>5.0</td>\n",
              "    </tr>\n",
              "    <tr>\n",
              "      <th>1683264</th>\n",
              "      <td>\"He's a happy chappie.\" So says the character ...</td>\n",
              "      <td>6.0</td>\n",
              "    </tr>\n",
              "    <tr>\n",
              "      <th>1683265</th>\n",
              "      <td>I know now a days movies are all about renewin...</td>\n",
              "      <td>6.0</td>\n",
              "    </tr>\n",
              "    <tr>\n",
              "      <th>1683266</th>\n",
              "      <td>My least favorite from Blomkamp so far. So Cha...</td>\n",
              "      <td>5.0</td>\n",
              "    </tr>\n",
              "    <tr>\n",
              "      <th>1683267</th>\n",
              "      <td>I felt emotionally involved during almost all ...</td>\n",
              "      <td>5.0</td>\n",
              "    </tr>\n",
              "  </tbody>\n",
              "</table>\n",
              "</div>"
            ],
            "text/plain": [
              "                                                    review  rating\n",
              "1683263  After the critical mutilation Chappie received...     5.0\n",
              "1683264  \"He's a happy chappie.\" So says the character ...     6.0\n",
              "1683265  I know now a days movies are all about renewin...     6.0\n",
              "1683266  My least favorite from Blomkamp so far. So Cha...     5.0\n",
              "1683267  I felt emotionally involved during almost all ...     5.0"
            ]
          },
          "metadata": {
            "tags": []
          },
          "execution_count": 8
        }
      ]
    },
    {
      "cell_type": "code",
      "metadata": {
        "id": "YkboY9n51VuJ"
      },
      "source": [
        "# Convert the ratings to 0, 1, -1\n",
        "for x in df.index:\n",
        "    if df['rating'][x] > 7.0:\n",
        "        df.loc[x,'rating'] = 1\n",
        "    elif df['rating'][x] < 6.0:\n",
        "        df.loc[x,'rating'] = -1\n",
        "    else:\n",
        "        df.loc[x,'rating'] = 0"
      ],
      "execution_count": null,
      "outputs": []
    },
    {
      "cell_type": "code",
      "metadata": {
        "id": "UcSoWpAc1gFt",
        "colab": {
          "base_uri": "https://localhost:8080/",
          "height": 204
        },
        "outputId": "f8458374-551b-4c94-fe7b-e67bf7ea882f"
      },
      "source": [
        "# Lower the srings of review column\n",
        "df[\"review\"] = df[\"review\"].str.lower()\n",
        "df.tail()"
      ],
      "execution_count": null,
      "outputs": [
        {
          "output_type": "execute_result",
          "data": {
            "text/html": [
              "<div>\n",
              "<style scoped>\n",
              "    .dataframe tbody tr th:only-of-type {\n",
              "        vertical-align: middle;\n",
              "    }\n",
              "\n",
              "    .dataframe tbody tr th {\n",
              "        vertical-align: top;\n",
              "    }\n",
              "\n",
              "    .dataframe thead th {\n",
              "        text-align: right;\n",
              "    }\n",
              "</style>\n",
              "<table border=\"1\" class=\"dataframe\">\n",
              "  <thead>\n",
              "    <tr style=\"text-align: right;\">\n",
              "      <th></th>\n",
              "      <th>review</th>\n",
              "      <th>rating</th>\n",
              "    </tr>\n",
              "  </thead>\n",
              "  <tbody>\n",
              "    <tr>\n",
              "      <th>1683263</th>\n",
              "      <td>after the critical mutilation chappie received...</td>\n",
              "      <td>-1.0</td>\n",
              "    </tr>\n",
              "    <tr>\n",
              "      <th>1683264</th>\n",
              "      <td>\"he's a happy chappie.\" so says the character ...</td>\n",
              "      <td>0.0</td>\n",
              "    </tr>\n",
              "    <tr>\n",
              "      <th>1683265</th>\n",
              "      <td>i know now a days movies are all about renewin...</td>\n",
              "      <td>0.0</td>\n",
              "    </tr>\n",
              "    <tr>\n",
              "      <th>1683266</th>\n",
              "      <td>my least favorite from blomkamp so far. so cha...</td>\n",
              "      <td>-1.0</td>\n",
              "    </tr>\n",
              "    <tr>\n",
              "      <th>1683267</th>\n",
              "      <td>i felt emotionally involved during almost all ...</td>\n",
              "      <td>-1.0</td>\n",
              "    </tr>\n",
              "  </tbody>\n",
              "</table>\n",
              "</div>"
            ],
            "text/plain": [
              "                                                    review  rating\n",
              "1683263  after the critical mutilation chappie received...    -1.0\n",
              "1683264  \"he's a happy chappie.\" so says the character ...     0.0\n",
              "1683265  i know now a days movies are all about renewin...     0.0\n",
              "1683266  my least favorite from blomkamp so far. so cha...    -1.0\n",
              "1683267  i felt emotionally involved during almost all ...    -1.0"
            ]
          },
          "metadata": {
            "tags": []
          },
          "execution_count": 10
        }
      ]
    },
    {
      "cell_type": "code",
      "metadata": {
        "id": "AWkmHqGf1i_K"
      },
      "source": [
        "# Remove puntuations and symbols\n",
        "PUNCT_TO_REMOVE = string.punctuation\n",
        "\n",
        "def remove_punctuation(text):\n",
        "    return text.translate(str.maketrans('', '', PUNCT_TO_REMOVE))\n",
        "\n",
        "df[\"review\"] = df[\"review\"].apply(lambda text: remove_punctuation(text))"
      ],
      "execution_count": null,
      "outputs": []
    },
    {
      "cell_type": "code",
      "metadata": {
        "colab": {
          "base_uri": "https://localhost:8080/"
        },
        "id": "iGt3c5Ha6bGV",
        "outputId": "ea474c1d-f97b-42cf-a360-eb5c73c002dd"
      },
      "source": [
        "# Remove stop words\n",
        "from nltk.corpus import stopwords\n",
        "nltk.download('stopwords')\n",
        "\n",
        "STOPWORDS = set(stopwords.words('english'))\n",
        "\n",
        "def remove_stopwords(text):\n",
        "    return \" \".join([word for word in str(text).split() if word not in STOPWORDS])\n",
        "\n",
        "df[\"review\"] = df[\"review\"].apply(lambda text: remove_stopwords(text))"
      ],
      "execution_count": null,
      "outputs": [
        {
          "output_type": "stream",
          "text": [
            "[nltk_data] Downloading package stopwords to /root/nltk_data...\n",
            "[nltk_data]   Unzipping corpora/stopwords.zip.\n"
          ],
          "name": "stdout"
        }
      ]
    },
    {
      "cell_type": "code",
      "metadata": {
        "id": "QhUmDAc2kNs9"
      },
      "source": [
        "df.to_csv(\"/content/drive/MyDrive/movie_reviews_preprocessed.csv\")"
      ],
      "execution_count": null,
      "outputs": []
    }
  ]
}