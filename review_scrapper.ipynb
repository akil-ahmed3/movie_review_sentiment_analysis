{
 "cells": [
  {
   "cell_type": "code",
   "execution_count": 2,
   "metadata": {},
   "outputs": [],
   "source": [
    "from selenium import webdriver\n",
    "from selenium.webdriver.common.keys import Keys\n",
    "from selenium.common.exceptions import NoSuchElementException\n",
    "from selenium.webdriver.support.ui import WebDriverWait\n",
    "\n",
    "import csv\n",
    "import json\n",
    "import time\n",
    "import urllib\n",
    "import requests\n",
    "import pandas as pd"
   ]
  },
  {
   "cell_type": "code",
   "execution_count": 3,
   "metadata": {},
   "outputs": [
    {
     "data": {
      "text/html": [
       "<div>\n",
       "<style scoped>\n",
       "    .dataframe tbody tr th:only-of-type {\n",
       "        vertical-align: middle;\n",
       "    }\n",
       "\n",
       "    .dataframe tbody tr th {\n",
       "        vertical-align: top;\n",
       "    }\n",
       "\n",
       "    .dataframe thead th {\n",
       "        text-align: right;\n",
       "    }\n",
       "</style>\n",
       "<table border=\"1\" class=\"dataframe\">\n",
       "  <thead>\n",
       "    <tr style=\"text-align: right;\">\n",
       "      <th></th>\n",
       "      <th>Unnamed: 0</th>\n",
       "      <th>movie_ids</th>\n",
       "    </tr>\n",
       "  </thead>\n",
       "  <tbody>\n",
       "    <tr>\n",
       "      <th>0</th>\n",
       "      <td>0</td>\n",
       "      <td>0457275</td>\n",
       "    </tr>\n",
       "    <tr>\n",
       "      <th>1</th>\n",
       "      <td>1</td>\n",
       "      <td>0387892</td>\n",
       "    </tr>\n",
       "    <tr>\n",
       "      <th>2</th>\n",
       "      <td>2</td>\n",
       "      <td>0036027</td>\n",
       "    </tr>\n",
       "    <tr>\n",
       "      <th>3</th>\n",
       "      <td>3</td>\n",
       "      <td>0050832</td>\n",
       "    </tr>\n",
       "    <tr>\n",
       "      <th>4</th>\n",
       "      <td>4</td>\n",
       "      <td>0284262</td>\n",
       "    </tr>\n",
       "  </tbody>\n",
       "</table>\n",
       "</div>"
      ],
      "text/plain": [
       "   Unnamed: 0 movie_ids\n",
       "0           0   0457275\n",
       "1           1   0387892\n",
       "2           2   0036027\n",
       "3           3   0050832\n",
       "4           4   0284262"
      ]
     },
     "execution_count": 3,
     "metadata": {},
     "output_type": "execute_result"
    }
   ],
   "source": [
    "df = pd.read_csv(\"movie_ids.csv\", converters={'movie_ids': lambda x: str(x)})\n",
    "id = str(df[\"movie_ids\"][0])\n",
    "df.head()"
   ]
  },
  {
   "cell_type": "code",
   "execution_count": 16,
   "metadata": {},
   "outputs": [
    {
     "name": "stdout",
     "output_type": "stream",
     "text": [
      "['8', '8', '8', '7', '6', '1', '9', '10', '8', '10', '7', '7', '9', '1', '3', '3', '2', '1', '1', '5', '1', '6', '9', '5', '6', '7', '2', '2', '8', '7', '1', '1', '5', '9', '2', '9', '7', '1', '7', '8', '1', '7', '7', '8', '8', '8', '8', '7', '10', '10', '3', '5', '10', '7', '7', '7', '8', '7', '6', '5', '3', '1', '6', '9', '9', '8', '10', '9', '8', '2', '7', '8', '6', '7', '7', '2', '8', '9', '8', '6', '8', '8', '9', '4', '10', '3', '8', '7', '7', '7', '8', '7', '9', '9', '10', '8', '3', '7', '9', '9', '7', '8', '8', '7', '8', '6', '10', '7', '8', '7', '9', '7', '7', '7', '6', '7', '5', '8', '6', '5', '7', '4', '8', '8', '6', '9', '7']\n",
      "127\n"
     ]
    }
   ],
   "source": [
    "url = \"https://www.imdb.com/title/tt\" + id + \"/reviews\"\n",
    "\n",
    "req = urllib.request.Request(url, headers={'User-Agent' : \"Magic Browser\"}) \n",
    "\n",
    "chrome_options = webdriver.ChromeOptions(); \n",
    "chrome_options.add_experimental_option(\"excludeSwitches\", ['enable-automation']);\n",
    "driver = webdriver.Chrome(options=chrome_options); \n",
    "\n",
    "driver.get(url)\n",
    "    \n",
    "page = urllib.request.urlopen(req)\n",
    "\n",
    "reviews = []\n",
    "ratings = []\n",
    "non_spoiler =[]\n",
    "\n",
    "show_more_button = driver.find_elements_by_class_name(\"ipl-load-more__button\")[0]\n",
    "\n",
    "\n",
    "while show_more_button.value_of_css_property(\"display\") == \"block\":\n",
    "    show_more_button.click() \n",
    "    time.sleep(2)\n",
    "    \n",
    "\n",
    "read_full_buttons = driver.find_elements_by_xpath(\".//div[@class='gradient-expander  show-more']\")\n",
    "\n",
    "for read_full_button in read_full_buttons:\n",
    "    full_review = read_full_button.find_element_by_class_name(\"expander-icon-wrapper\")\n",
    "    \n",
    "    non_spoiler.append(full_review)\n",
    "\n",
    "spoiler = driver.find_elements_by_xpath(\".//div[@class='expander-icon-wrapper spoiler-warning__control']\")\n",
    "\n",
    "show_more_reviews = non_spoiler + spoiler\n",
    "\n",
    "\n",
    "\n",
    "\n",
    "for show_more_review in show_more_reviews:\n",
    "    show_more_review.click()\n",
    "    \n",
    "movie_ratings = driver.find_elements_by_xpath(\".//span[@class='rating-other-user-rating']/span[1]\")\n",
    "for rating in movie_ratings:\n",
    "    ratings.append(rating.text)\n",
    "    \n",
    "print(ratings)\n",
    "print(len(ratings))\n",
    "\n",
    "\n",
    "if show_more_button.value_of_css_property(\"display\") == \"none\":\n",
    "    review_fields = driver.find_elements_by_xpath(\".//div[@class='content']/div[@class='text show-more__control']\")\n",
    "#     ratings = driver.find_elements_by_xpath(\".//span[@class='rating-other-user-rating']/span\")[0]\n",
    "    for review in review_fields:\n",
    "#         ratings.append(rating.text)\n",
    "        reviews.append(review.text)\n",
    "        \n",
    "df = pd.DataFrame({\"reviews\": reviews})\n",
    "# df = pd.DataFrame({\"reviews\": reviews, \"ratings\": ratings})\n",
    "# \n",
    "\n",
    "# driver.quit()"
   ]
  },
  {
   "cell_type": "code",
   "execution_count": 11,
   "metadata": {},
   "outputs": [
    {
     "data": {
      "text/html": [
       "<div>\n",
       "<style scoped>\n",
       "    .dataframe tbody tr th:only-of-type {\n",
       "        vertical-align: middle;\n",
       "    }\n",
       "\n",
       "    .dataframe tbody tr th {\n",
       "        vertical-align: top;\n",
       "    }\n",
       "\n",
       "    .dataframe thead th {\n",
       "        text-align: right;\n",
       "    }\n",
       "</style>\n",
       "<table border=\"1\" class=\"dataframe\">\n",
       "  <thead>\n",
       "    <tr style=\"text-align: right;\">\n",
       "      <th></th>\n",
       "      <th>reviews</th>\n",
       "    </tr>\n",
       "  </thead>\n",
       "  <tbody>\n",
       "    <tr>\n",
       "      <th>0</th>\n",
       "      <td>'Altered' follows the capture of an extraterre...</td>\n",
       "    </tr>\n",
       "    <tr>\n",
       "      <th>1</th>\n",
       "      <td>like sci-fi? like gore? if, like me the answer...</td>\n",
       "    </tr>\n",
       "    <tr>\n",
       "      <th>2</th>\n",
       "      <td>Going into Altered I was aware of a couple thi...</td>\n",
       "    </tr>\n",
       "    <tr>\n",
       "      <th>3</th>\n",
       "      <td>Although it would be a stretch to call it orig...</td>\n",
       "    </tr>\n",
       "    <tr>\n",
       "      <th>4</th>\n",
       "      <td>POTENTIAL SPOILERS!!! I thought it started off...</td>\n",
       "    </tr>\n",
       "  </tbody>\n",
       "</table>\n",
       "</div>"
      ],
      "text/plain": [
       "                                             reviews\n",
       "0  'Altered' follows the capture of an extraterre...\n",
       "1  like sci-fi? like gore? if, like me the answer...\n",
       "2  Going into Altered I was aware of a couple thi...\n",
       "3  Although it would be a stretch to call it orig...\n",
       "4  POTENTIAL SPOILERS!!! I thought it started off..."
      ]
     },
     "execution_count": 11,
     "metadata": {},
     "output_type": "execute_result"
    }
   ],
   "source": [
    "df.head(5)"
   ]
  },
  {
   "cell_type": "code",
   "execution_count": null,
   "metadata": {},
   "outputs": [],
   "source": []
  }
 ],
 "metadata": {
  "kernelspec": {
   "display_name": "Python 3.7.6 64-bit ('base': conda)",
   "language": "python",
   "name": "python37664bitbasecondafcfade751ef44a82bb55a30c909c3823"
  },
  "language_info": {
   "codemirror_mode": {
    "name": "ipython",
    "version": 3
   },
   "file_extension": ".py",
   "mimetype": "text/x-python",
   "name": "python",
   "nbconvert_exporter": "python",
   "pygments_lexer": "ipython3",
   "version": "3.7.6"
  }
 },
 "nbformat": 4,
 "nbformat_minor": 4
}
