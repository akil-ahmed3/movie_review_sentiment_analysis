{
 "cells": [
  {
   "cell_type": "code",
   "execution_count": 3,
   "metadata": {},
   "outputs": [],
   "source": [
    "from selenium import webdriver\n",
    "from selenium.webdriver.common.keys import Keys\n",
    "from selenium.common.exceptions import NoSuchElementException\n",
    "from selenium.webdriver.support.ui import WebDriverWait\n",
    "\n",
    "import csv\n",
    "import json\n",
    "import time\n",
    "import urllib\n",
    "import requests\n",
    "import pandas as pd\n",
    "import nltk\n",
    "import spacy\n",
    "import string\n",
    "import numpy as np"
   ]
  },
  {
   "cell_type": "code",
   "execution_count": 56,
   "metadata": {},
   "outputs": [
    {
     "data": {
      "text/plain": [
       "'0110186'"
      ]
     },
     "execution_count": 56,
     "metadata": {},
     "output_type": "execute_result"
    }
   ],
   "source": [
    "df = pd.read_csv(\"movie_ids.csv\", converters={'movie_ids': lambda x: str(x)})\n",
    "ids = df[\"movie_ids\"]\n",
    "ids = list(df.iloc[:100][\"movie_ids\"])\n",
    "len(ids)\n",
    "ids[46]"
   ]
  },
  {
   "cell_type": "code",
   "execution_count": 51,
   "metadata": {},
   "outputs": [],
   "source": [
    "chrome_options = webdriver.ChromeOptions(); \n",
    "chrome_options.add_experimental_option(\"excludeSwitches\", ['enable-automation']);"
   ]
  },
  {
   "cell_type": "code",
   "execution_count": 52,
   "metadata": {},
   "outputs": [],
   "source": [
    "reviews = []\n",
    "ratings = []"
   ]
  },
  {
   "cell_type": "code",
   "execution_count": 53,
   "metadata": {},
   "outputs": [],
   "source": [
    "def extract_ratings():\n",
    "    rating_reviews = driver.find_elements_by_xpath(\".//div[@class='review-container']\")\n",
    "    for rating_review in rating_reviews:\n",
    "        try:\n",
    "            new_rating = rating_review.find_element_by_xpath(\".//span[@class='rating-other-user-rating']/span[1]\")\n",
    "            ratings.append(new_rating.text)\n",
    "        except NoSuchElementException:  \n",
    "            ratings.append(None)"
   ]
  },
  {
   "cell_type": "code",
   "execution_count": 54,
   "metadata": {},
   "outputs": [],
   "source": [
    "def extract_reviews():\n",
    "    rating_reviews = driver.find_elements_by_xpath(\".//div[@class='review-container']\")\n",
    "    for rating_review in rating_reviews:\n",
    "        review = rating_review.find_element_by_xpath(\".//div[@class='content']/div[@class='text show-more__control']\")\n",
    "        reviews.append(review.text)"
   ]
  },
  {
   "cell_type": "code",
   "execution_count": 59,
   "metadata": {},
   "outputs": [],
   "source": [
    "s = 0\n",
    "sum = 0\n",
    "for id in ids: \n",
    "    sum += 1\n",
    "    url = \"https://www.imdb.com/title/tt\" + id + \"/reviews\"\n",
    "    \n",
    "    req = urllib.request.Request(url, headers={'User-Agent' : \"Magic Browser\"}) \n",
    "\n",
    "    driver = webdriver.Chrome(options=chrome_options)    \n",
    "\n",
    "    driver.get(url)\n",
    "\n",
    "    show_more_button = driver.find_elements_by_class_name(\"ipl-load-more__button\")\n",
    "    \n",
    "    if show_more_button != []:\n",
    "        while show_more_button[0].value_of_css_property(\"display\") == \"block\":\n",
    "            show_more_button[0].click() \n",
    "            time.sleep(3)\n",
    "\n",
    "    read_full_buttons = driver.find_elements_by_xpath(\".//div[@class='gradient-expander  show-more']\")\n",
    "\n",
    "    # Click on read more button to read\n",
    "    non_spoiler =[]\n",
    "\n",
    "    #  Non spoiler review\n",
    "    for read_full_button in read_full_buttons:\n",
    "        full_review = read_full_button.find_element_by_class_name(\"expander-icon-wrapper\")\n",
    "\n",
    "        non_spoiler.append(full_review)\n",
    "\n",
    "    # Spoiler review\n",
    "    spoiler = driver.find_elements_by_xpath(\".//div[@class='expander-icon-wrapper spoiler-warning__control']\")\n",
    "\n",
    "    show_more_reviews = non_spoiler + spoiler\n",
    "\n",
    "    for show_more_review in show_more_reviews:\n",
    "        show_more_review.click()\n",
    "        \n",
    "    if sum == 20:\n",
    "        s = s + 1\n",
    "        dataframe = pd.DataFrame({\"reviews\": reviews, \"ratings\": ratings})\n",
    "        dataframe.to_csv('movie_review-' + str(s) + '.csv')\n",
    "        reviews = []\n",
    "        ratings = []\n",
    "        \n",
    "\n",
    "    extract_ratings()\n",
    "    extract_reviews()\n",
    "    \n",
    "    print(sum)\n",
    "    driver.close()\n"
   ]
  },
  {
   "cell_type": "code",
   "execution_count": 223,
   "metadata": {},
   "outputs": [],
   "source": [
    "dataframe = pd.DataFrame({\"reviews\": reviews, \"ratings\": ratings})\n",
    "\n",
    "dataframe.to_csv('movie_review.csv')"
   ]
  }
 ],
 "metadata": {
  "kernelspec": {
   "display_name": "Python 3.7.6 64-bit ('base': conda)",
   "language": "python",
   "name": "python37664bitbasecondafcfade751ef44a82bb55a30c909c3823"
  },
  "language_info": {
   "codemirror_mode": {
    "name": "ipython",
    "version": 3
   },
   "file_extension": ".py",
   "mimetype": "text/x-python",
   "name": "python",
   "nbconvert_exporter": "python",
   "pygments_lexer": "ipython3",
   "version": "3.7.6"
  }
 },
 "nbformat": 4,
 "nbformat_minor": 4
}